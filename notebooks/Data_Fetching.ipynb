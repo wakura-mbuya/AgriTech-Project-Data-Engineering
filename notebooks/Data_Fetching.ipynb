{
 "cells": [
  {
   "cell_type": "markdown",
   "id": "f06bf6c3-bff5-4450-9adf-611e171c5c4c",
   "metadata": {},
   "source": [
    "# Data Engineering Project\n",
    "# AgriTech - USGS LIDAR Challenge\n",
    "This notebook presents code to connect to the USGS 3DEPP API, query the data model to select with a specified input and get a desired output."
   ]
  },
  {
   "cell_type": "code",
   "execution_count": 3,
   "id": "5930f2fc-cc96-48f9-9633-65991b33621d",
   "metadata": {},
   "outputs": [],
   "source": [
    "import pdal\n",
    "import json\n",
    "import geopandas as gpd\n",
    "import pandas as pd\n",
    "from shapely.geometry import Polygon, Point, mapping\n",
    "import numpy as np\n",
    "from pyproj import Proj, transform\n",
    "import folium\n",
    "import laspy as lp\n",
    "\n",
    "import warnings\n",
    "import matplotlib.pyplot as plt\n",
    "warnings.filterwarnings(\"ignore\")"
   ]
  },
  {
   "cell_type": "markdown",
   "id": "96f52e4f-1a89-4741-b173-1d24052ba12c",
   "metadata": {},
   "source": [
    "### Initial configuration for fetching the data from AWS\n",
    "During the initial configuration, we set the path to json file that is used to build the pdal pipeline, we also set the url to the lidar data on Amazon and the state/region"
   ]
  },
  {
   "cell_type": "code",
   "execution_count": 20,
   "id": "f8ac8ace-88b3-42d1-8d09-0e50ef3446c2",
   "metadata": {},
   "outputs": [],
   "source": [
    "json_path = \"pdal.json\"  #path to the json file for building the pdal pipeline\n",
    "url = \"https://s3-us-west-2.amazonaws.com/usgs-lidar-public\"   # url to the public lidar data on Amazon\n",
    "region = \"IA_FullState\"  # the region we will be working with\n",
    "in_srs = 3857   # coordinate reference system used in the data on Amazon\n",
    "out_srs = 4326  # coordinate reference system we are going to use in the code. "
   ]
  },
  {
   "cell_type": "code",
   "execution_count": 19,
   "id": "a70dc56b-ca42-47d6-adb2-4ed7fdb2ab4e",
   "metadata": {},
   "outputs": [
    {
     "data": {
      "text/html": [
       "<div style=\"width:100%;\"><div style=\"position:relative;width:100%;height:0;padding-bottom:60%;\"><span style=\"color:#565656\">Make this Notebook Trusted to load map: File -> Trust Notebook</span><iframe srcdoc=\"&lt;!DOCTYPE html&gt;\n",
       "&lt;head&gt;    \n",
       "    &lt;meta http-equiv=&quot;content-type&quot; content=&quot;text/html; charset=UTF-8&quot; /&gt;\n",
       "    \n",
       "        &lt;script&gt;\n",
       "            L_NO_TOUCH = false;\n",
       "            L_DISABLE_3D = false;\n",
       "        &lt;/script&gt;\n",
       "    \n",
       "    &lt;style&gt;html, body {width: 100%;height: 100%;margin: 0;padding: 0;}&lt;/style&gt;\n",
       "    &lt;style&gt;#map {position:absolute;top:0;bottom:0;right:0;left:0;}&lt;/style&gt;\n",
       "    &lt;script src=&quot;https://cdn.jsdelivr.net/npm/leaflet@1.6.0/dist/leaflet.js&quot;&gt;&lt;/script&gt;\n",
       "    &lt;script src=&quot;https://code.jquery.com/jquery-1.12.4.min.js&quot;&gt;&lt;/script&gt;\n",
       "    &lt;script src=&quot;https://maxcdn.bootstrapcdn.com/bootstrap/3.2.0/js/bootstrap.min.js&quot;&gt;&lt;/script&gt;\n",
       "    &lt;script src=&quot;https://cdnjs.cloudflare.com/ajax/libs/Leaflet.awesome-markers/2.0.2/leaflet.awesome-markers.js&quot;&gt;&lt;/script&gt;\n",
       "    &lt;link rel=&quot;stylesheet&quot; href=&quot;https://cdn.jsdelivr.net/npm/leaflet@1.6.0/dist/leaflet.css&quot;/&gt;\n",
       "    &lt;link rel=&quot;stylesheet&quot; href=&quot;https://maxcdn.bootstrapcdn.com/bootstrap/3.2.0/css/bootstrap.min.css&quot;/&gt;\n",
       "    &lt;link rel=&quot;stylesheet&quot; href=&quot;https://maxcdn.bootstrapcdn.com/bootstrap/3.2.0/css/bootstrap-theme.min.css&quot;/&gt;\n",
       "    &lt;link rel=&quot;stylesheet&quot; href=&quot;https://maxcdn.bootstrapcdn.com/font-awesome/4.6.3/css/font-awesome.min.css&quot;/&gt;\n",
       "    &lt;link rel=&quot;stylesheet&quot; href=&quot;https://cdnjs.cloudflare.com/ajax/libs/Leaflet.awesome-markers/2.0.2/leaflet.awesome-markers.css&quot;/&gt;\n",
       "    &lt;link rel=&quot;stylesheet&quot; href=&quot;https://cdn.jsdelivr.net/gh/python-visualization/folium/folium/templates/leaflet.awesome.rotate.min.css&quot;/&gt;\n",
       "    \n",
       "            &lt;meta name=&quot;viewport&quot; content=&quot;width=device-width,\n",
       "                initial-scale=1.0, maximum-scale=1.0, user-scalable=no&quot; /&gt;\n",
       "            &lt;style&gt;\n",
       "                #map_b24bcb457996451d0fd07b4c940b8bc7 {\n",
       "                    position: relative;\n",
       "                    width: 100.0%;\n",
       "                    height: 100.0%;\n",
       "                    left: 0.0%;\n",
       "                    top: 0.0%;\n",
       "                }\n",
       "            &lt;/style&gt;\n",
       "        \n",
       "&lt;/head&gt;\n",
       "&lt;body&gt;    \n",
       "    \n",
       "            &lt;div class=&quot;folium-map&quot; id=&quot;map_b24bcb457996451d0fd07b4c940b8bc7&quot; &gt;&lt;/div&gt;\n",
       "        \n",
       "&lt;/body&gt;\n",
       "&lt;script&gt;    \n",
       "    \n",
       "            var map_b24bcb457996451d0fd07b4c940b8bc7 = L.map(\n",
       "                &quot;map_b24bcb457996451d0fd07b4c940b8bc7&quot;,\n",
       "                {\n",
       "                    center: [41.918115, -93.756055],\n",
       "                    crs: L.CRS.EPSG3857,\n",
       "                    zoom: 20,\n",
       "                    zoomControl: true,\n",
       "                    preferCanvas: false,\n",
       "                }\n",
       "            );\n",
       "\n",
       "            \n",
       "\n",
       "        \n",
       "    \n",
       "            var tile_layer_4ca5959dc032d4900007aa0cfc97cbd6 = L.tileLayer(\n",
       "                &quot;https://cartodb-basemaps-{s}.global.ssl.fastly.net/light_all/{z}/{x}/{y}.png&quot;,\n",
       "                {&quot;attribution&quot;: &quot;\\u0026copy; \\u003ca href=\\&quot;http://www.openstreetmap.org/copyright\\&quot;\\u003eOpenStreetMap\\u003c/a\\u003e contributors \\u0026copy; \\u003ca href=\\&quot;http://cartodb.com/attributions\\&quot;\\u003eCartoDB\\u003c/a\\u003e, CartoDB \\u003ca href =\\&quot;http://cartodb.com/attributions\\&quot;\\u003eattributions\\u003c/a\\u003e&quot;, &quot;detectRetina&quot;: false, &quot;maxNativeZoom&quot;: 18, &quot;maxZoom&quot;: 18, &quot;minZoom&quot;: 0, &quot;noWrap&quot;: false, &quot;opacity&quot;: 1, &quot;subdomains&quot;: &quot;abc&quot;, &quot;tms&quot;: false}\n",
       "            ).addTo(map_b24bcb457996451d0fd07b4c940b8bc7);\n",
       "        \n",
       "    \n",
       "\n",
       "        function geo_json_229367cf78810df04454bafebbbcc2da_onEachFeature(feature, layer) {\n",
       "            layer.on({\n",
       "            });\n",
       "        };\n",
       "        var geo_json_229367cf78810df04454bafebbbcc2da = L.geoJson(null, {\n",
       "                onEachFeature: geo_json_229367cf78810df04454bafebbbcc2da_onEachFeature,\n",
       "            \n",
       "        });\n",
       "\n",
       "        function geo_json_229367cf78810df04454bafebbbcc2da_add (data) {\n",
       "            geo_json_229367cf78810df04454bafebbbcc2da\n",
       "                .addData(data)\n",
       "                .addTo(map_b24bcb457996451d0fd07b4c940b8bc7);\n",
       "        }\n",
       "            geo_json_229367cf78810df04454bafebbbcc2da_add({&quot;bbox&quot;: [-93.756396, 41.918, -93.755795, 41.918475], &quot;features&quot;: [{&quot;bbox&quot;: [-93.756396, 41.918, -93.755795, 41.918475], &quot;geometry&quot;: {&quot;coordinates&quot;: [[[-93.756055, 41.918115], [-93.756155, 41.918215], [-93.756396, 41.918475], [-93.755955, 41.9183], [-93.755795, 41.918], [-93.756055, 41.918115]]], &quot;type&quot;: &quot;Polygon&quot;}, &quot;id&quot;: &quot;0&quot;, &quot;properties&quot;: {}, &quot;type&quot;: &quot;Feature&quot;}], &quot;type&quot;: &quot;FeatureCollection&quot;});\n",
       "\n",
       "        \n",
       "    \n",
       "                var lat_lng_popup_b7753bee0cf47867db556e56348deb6b = L.popup();\n",
       "                function latLngPop(e) {\n",
       "                    lat_lng_popup_b7753bee0cf47867db556e56348deb6b\n",
       "                        .setLatLng(e.latlng)\n",
       "                        .setContent(&quot;Latitude: &quot; + e.latlng.lat.toFixed(4) +\n",
       "                                    &quot;&lt;br&gt;Longitude: &quot; + e.latlng.lng.toFixed(4))\n",
       "                        .openOn(map_b24bcb457996451d0fd07b4c940b8bc7);\n",
       "                    }\n",
       "                map_b24bcb457996451d0fd07b4c940b8bc7.on(&#x27;click&#x27;, latLngPop);\n",
       "            \n",
       "&lt;/script&gt;\" style=\"position:absolute;width:100%;height:100%;left:0;top:0;border:none !important;\" allowfullscreen webkitallowfullscreen mozallowfullscreen></iframe></div></div>"
      ],
      "text/plain": [
       "<folium.folium.Map at 0x17c55659690>"
      ]
     },
     "execution_count": 19,
     "metadata": {},
     "output_type": "execute_result"
    }
   ],
   "source": [
    "coordinates = [\n",
    "    [-93.756055, 41.918115],\n",
    "    [-93.756155, 41.918215],\n",
    "    [-93.756396, 41.918475],\n",
    "    [-93.755955, 41.918300],\n",
    "    [-93.755795, 41.918000],\n",
    "]\n",
    "\n",
    "poly = get_polygon(coordinates, 4326)\n",
    "show_on_map(poly, 20)"
   ]
  },
  {
   "cell_type": "markdown",
   "id": "6ebf722d-1412-47f7-bfa2-9aabe7a80747",
   "metadata": {},
   "source": [
    "### Utility functions definition\n",
    "We define utility functions we will use when fetching the data"
   ]
  },
  {
   "cell_type": "code",
   "execution_count": 8,
   "id": "804c7e98-b8cd-4050-9db2-6ad9fd995a68",
   "metadata": {},
   "outputs": [],
   "source": [
    "def read_json(json_path: str)->json:\n",
    "    \"\"\"\n",
    "    This function loads a json file from a specified path into a json object\n",
    "    \n",
    "    params:\n",
    "        json_path (str): the path to the json file\n",
    "        \n",
    "    returns:\n",
    "        json object loaded from the json file\n",
    "    \"\"\"\n",
    "    try:\n",
    "        with open(json_path) as js:\n",
    "            json_obj = json.load(js)\n",
    "        return json_obj\n",
    "\n",
    "    except FileNotFoundError:\n",
    "        print('File not found.')"
   ]
  },
  {
   "cell_type": "code",
   "execution_count": 38,
   "id": "a47857ce-3261-4598-b2cf-59a5a487986e",
   "metadata": {
    "tags": []
   },
   "outputs": [],
   "source": [
    "def convert_EPSG(lon, lat, crs) -> list:\n",
    "    \"\"\"\n",
    "    This function converts a coordinate from one coordinate system to another. The function can convert the coordinates from epsg 3857 coordinate system to epsg 4326 coordinate system and vice versa\n",
    "    \n",
    "    params:\n",
    "        lon (double): the longitude value of the coordinate\n",
    "        lat (double): the latitude value of the coordinate\n",
    "        crs (int): the coordinate reference system of the coordinate to be converted\n",
    "    \n",
    "    returns: \n",
    "        A list of two values indicating the coordinate converted to the new system\n",
    "    \"\"\"\n",
    "    P3857 = Proj(init='epsg:3857')\n",
    "    P4326 = Proj(init='epsg:4326')\n",
    "    if(crs == 4326):\n",
    "        input1 = P4326\n",
    "        input2 = P3857\n",
    "    else:\n",
    "        input1=p3857\n",
    "        input2=p4326\n",
    "        \n",
    "    x, y = transform(input1,input2, lon, lat)\n",
    "    return [x, y] \n"
   ]
  },
  {
   "cell_type": "code",
   "execution_count": 40,
   "id": "02b92307-1525-4e58-a611-9364b8237cc4",
   "metadata": {},
   "outputs": [],
   "source": [
    "def EPSG_converter(coordinates_list: list) -> list:\n",
    "    \"\"\"\n",
    "    This function converts of coordinates from the epsg 4326 coordinate reference system to 3857 reference system\n",
    "    \n",
    "    param:\n",
    "        coordinates_list (list): list of coordinates to be converted\n",
    "        \n",
    "    returns:\n",
    "        A list of the coordinates converted to the 3857 coordinates reference system\n",
    "    \"\"\"\n",
    "    temp = []\n",
    "    for item in coordinates_list:\n",
    "        temp.append(convert_EPSG(item[0], item[1], 4326))\n",
    "        \n",
    "    return temp"
   ]
  },
  {
   "cell_type": "code",
   "execution_count": 11,
   "id": "91266306-ed46-4f2f-bcb0-d22694aedfd8",
   "metadata": {},
   "outputs": [],
   "source": [
    "def get_polygon(coor, epsg):\n",
    "    \"\"\"\n",
    "    This function generates a GPS coordinates polygon from the list of coordinates\n",
    "    \n",
    "    params:\n",
    "        coor (list): A list of coordinates to be included in the polygon\n",
    "        epsg (int):  The coordinate reference sysem of the coordinates in the list\n",
    "        \n",
    "    returns:\n",
    "        A GPS coordinates Polygon\n",
    "    \"\"\"\n",
    "    polygon_g = Polygon(coor)\n",
    "    crs = {'init': 'epsg:'+str(epsg)}\n",
    "    polygon = gpd.GeoDataFrame(index=[0], crs=crs, geometry=[polygon_g])       \n",
    "    return polygon"
   ]
  },
  {
   "cell_type": "code",
   "execution_count": null,
   "id": "36bb241e-5871-4a6c-aa9b-9490506c4ce3",
   "metadata": {},
   "outputs": [],
   "source": [
    "# def generate_polygon(coor, epsg):\n",
    "#     polygon_g = Polygon(coor)\n",
    "#     crs = {'init': 'epsg:'+str(epsg)}\n",
    "#     polygon = gpd.GeoDataFrame(index=[0], crs=crs, geometry=[polygon_g])       \n",
    "#     return polygon"
   ]
  },
  {
   "cell_type": "code",
   "execution_count": 13,
   "id": "460d6675-b7b8-4ec1-9884-721aa703c806",
   "metadata": {},
   "outputs": [],
   "source": [
    "def get_geoDf(pipe, epsg):\n",
    "    \"\"\"\n",
    "    Generates a Geo Dataframe after executing the pdal pipeline\n",
    "    \n",
    "    params:\n",
    "        pipe (Pipeline): a pdal pipeline\n",
    "        epsg (int): coordinate reference system\n",
    "    \n",
    "    returns:\n",
    "        A Geo Dataframe\n",
    "    \"\"\"\n",
    "    try:\n",
    "        cloud_points = []\n",
    "        elevations =[]\n",
    "        geometry_points=[]\n",
    "        for row in pipe.arrays[0]:\n",
    "            lst = row.tolist()[-3:]\n",
    "            cloud_points.append(lst)\n",
    "            elevations.append(lst[2])\n",
    "            point = Point(lst[0], lst[1])\n",
    "            geometry_points.append(point)\n",
    "        geodf = gpd.GeoDataFrame(columns=[\"elevation\", \"geometry\"])\n",
    "        geodf['elevation'] = elevations\n",
    "        geodf['geometry'] = geometry_points\n",
    "        geodf = geodf.set_geometry(\"geometry\")\n",
    "        geodf.set_crs(epsg = epsg, inplace=True)\n",
    "        return geodf\n",
    "    except RuntimeError as e:\n",
    "        self.logger.exception('Could not generate the Geo Dataframe')\n",
    "        print(e)"
   ]
  },
  {
   "cell_type": "code",
   "execution_count": 44,
   "id": "415bb55c-b30c-4905-87e5-6b393316a502",
   "metadata": {},
   "outputs": [],
   "source": [
    "def build_pipeline(json_path, url, region, in_epsg, out_epsg):\n",
    "    \"\"\"\n",
    "    This function builds the json file that is used to build the pdal pipeline\n",
    "    \n",
    "    params:\n",
    "        json_path (str): Path to the initial json file\n",
    "        url (str): The url to the public lidar data on AWS\n",
    "        in_epsg (int): coordinate reference system used in the data on AWS\n",
    "        out_epsg (int): coordinate reference system to be used on the data returned\n",
    "        \n",
    "    returns:\n",
    "        json object to be used to build and execute the pdal pipeline for fetching the data\n",
    "    \"\"\"\n",
    "    temp = read_json(json_path)\n",
    "    temp['pipeline'][0]['polygon'] = str(polygon.iloc[:,0][0])\n",
    "    temp['pipeline'][0]['filename'] = f\"{url}/{region}/ept.json\"\n",
    "    temp['pipeline'][2]['in_srs'] = f\"EPSG:{in_epsg}\"\n",
    "    temp['pipeline'][2]['out_srs'] = f\"EPSG:{out_epsg}\"\n",
    "    print(temp)   #for testing\n",
    "    return temp"
   ]
  },
  {
   "cell_type": "code",
   "execution_count": 18,
   "id": "1e9a16af-8aab-43cb-8708-96fa38f1a0c0",
   "metadata": {},
   "outputs": [],
   "source": [
    "def show_on_map(polygon, zoom):\n",
    "    \"\"\"\n",
    "    Represents polygon on a map, zoomed to a specified percentage\n",
    "    \n",
    "    params:\n",
    "        polygon (Polygon): The GPS coordinates polygon to be represented on the map\n",
    "        zoom (int): The percetage to zoom to\n",
    "    \"\"\"\n",
    "    poly = mapping((polygon.iloc[:,0][0]))  #region selection\n",
    "    tmp = poly['coordinates'][0][0]\n",
    "    anchor = [tmp[1], tmp[0]]\n",
    "    m = folium.Map(anchor,zoom_start=zoom, tiles='cartodbpositron')\n",
    "    folium.GeoJson(polygon).add_to(m)\n",
    "    folium.LatLngPopup().add_to(m)\n",
    "    return m"
   ]
  },
  {
   "cell_type": "markdown",
   "id": "1aa97a13-72ea-45e3-a4e3-82693bf96811",
   "metadata": {},
   "source": [
    "### Generate the GPS coordinates\n",
    "Generate the coordinates and the GPS coordinates to be used when fetching te data"
   ]
  },
  {
   "cell_type": "code",
   "execution_count": 45,
   "id": "b1951ac3-7b98-46f7-88a9-34648f0a3457",
   "metadata": {},
   "outputs": [
    {
     "name": "stdout",
     "output_type": "stream",
     "text": [
      "[[-10436876.301386151, 5148721.349314567], [-10436887.43333523, 5148736.309605352], [-10436914.26133251, 5148775.206471106], [-10436865.169437071, 5148749.025870951], [-10436847.358318545, 5148704.145009145]]\n",
      "                                            geometry\n",
      "0  POLYGON ((-10436876.30139 5148721.34931, -1043...\n"
     ]
    }
   ],
   "source": [
    "coor = EPSG_converter(coordinates)\n",
    "print(coor)\n",
    "polygon = get_polygon(coor, 4326)\n",
    "print(polygon)\n"
   ]
  },
  {
   "cell_type": "markdown",
   "id": "d6b5296d-fc10-444f-b2bd-ea1a0432f87e",
   "metadata": {},
   "source": [
    "### Build the PDAL pipeline\n",
    "Use the pdal.json file to build the pdal pipeline to fetch the data"
   ]
  },
  {
   "cell_type": "code",
   "execution_count": 47,
   "id": "2a0f2028-794c-439d-834a-a6d15f9291f2",
   "metadata": {},
   "outputs": [
    {
     "name": "stdout",
     "output_type": "stream",
     "text": [
      "{'pipeline': [{'polygon': 'POLYGON ((-10436876.301386151 5148721.349314567, -10436887.43333523 5148736.309605352, -10436914.26133251 5148775.206471106, -10436865.169437071 5148749.025870951, -10436847.358318545 5148704.145009145, -10436876.301386151 5148721.349314567))', 'filename': 'https://s3-us-west-2.amazonaws.com/usgs-lidar-public/IA_FullState/ept.json', 'type': 'readers.ept', 'tag': 'readdata'}, {'type': 'filters.range', 'limits': 'Classification![7:7]', 'tag': 'no_noise'}, {'in_srs': 'EPSG:3857', 'out_srs': 'EPSG:4326', 'tag': 'reprojectUTM', 'type': 'filters.reprojection'}, {'filename': 'iowa.csv', 'tag': 'writerscsv', 'type': 'writers.text'}, {'filename': 'iowa.las', 'tag': 'writersply', 'type': 'writers.las'}]}\n"
     ]
    }
   ],
   "source": [
    "pipe_json = build_pipeline(json_path, url, region, in_srs, out_srs) #build json to be used to build the pdal pipeline\n",
    "pipe = pdal.Pipeline(json.dumps(pipe_json))  #build the pdal pipeline from the json file"
   ]
  },
  {
   "cell_type": "markdown",
   "id": "6ea9014e-45bc-45f3-8123-1aa747ee93b9",
   "metadata": {},
   "source": [
    "### Run the pdal pipeline\n",
    "Run the pdal pipeline to fetch the data from AWS server\n"
   ]
  },
  {
   "cell_type": "code",
   "execution_count": 48,
   "id": "227c2aaf-b63a-43a4-8ceb-8638f117a6a0",
   "metadata": {},
   "outputs": [
    {
     "data": {
      "text/plain": [
       "1371"
      ]
     },
     "execution_count": 48,
     "metadata": {},
     "output_type": "execute_result"
    }
   ],
   "source": [
    "pipe.execute()"
   ]
  },
  {
   "cell_type": "code",
   "execution_count": null,
   "id": "c46021fc-a1ac-4d57-a444-acabdd448b14",
   "metadata": {},
   "outputs": [],
   "source": []
  },
  {
   "cell_type": "code",
   "execution_count": null,
   "id": "c32ddd66-2e77-4012-acea-34552b08a81c",
   "metadata": {
    "tags": []
   },
   "outputs": [],
   "source": []
  },
  {
   "cell_type": "code",
   "execution_count": null,
   "id": "b57553c7-804f-4eea-94bf-e2c6e9bcc5e2",
   "metadata": {
    "tags": []
   },
   "outputs": [],
   "source": []
  },
  {
   "cell_type": "code",
   "execution_count": null,
   "id": "5b933418-950e-4130-960b-cf1af1e6e9a6",
   "metadata": {},
   "outputs": [],
   "source": []
  },
  {
   "cell_type": "code",
   "execution_count": null,
   "id": "84ef2985-f8ff-4595-9117-753c9f89ac41",
   "metadata": {},
   "outputs": [],
   "source": []
  },
  {
   "cell_type": "code",
   "execution_count": null,
   "id": "a96cc5fc-3d63-44aa-a29d-116b566333f1",
   "metadata": {},
   "outputs": [],
   "source": []
  }
 ],
 "metadata": {
  "kernelspec": {
   "display_name": "Python 3 (ipykernel)",
   "language": "python",
   "name": "python3"
  },
  "language_info": {
   "codemirror_mode": {
    "name": "ipython",
    "version": 3
   },
   "file_extension": ".py",
   "mimetype": "text/x-python",
   "name": "python",
   "nbconvert_exporter": "python",
   "pygments_lexer": "ipython3",
   "version": "3.10.5"
  }
 },
 "nbformat": 4,
 "nbformat_minor": 5
}
